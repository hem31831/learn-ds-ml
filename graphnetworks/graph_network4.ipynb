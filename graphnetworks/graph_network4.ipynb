{
 "cells": [
  {
   "cell_type": "code",
   "execution_count": 1,
   "id": "precious-volunteer",
   "metadata": {},
   "outputs": [],
   "source": [
    "import numpy as np\n",
    "import pandas as pd\n",
    "import networkx as nx\n",
    "import matplotlib.pyplot as plt\n",
    "from ipywidgets import interact, Select\n",
    "from IPython.display import display\n"
   ]
  },
  {
   "cell_type": "code",
   "execution_count": 2,
   "id": "sealed-berkeley",
   "metadata": {},
   "outputs": [],
   "source": [
    "df = pd.read_csv(\"datasets\\dataset.csv\")"
   ]
  },
  {
   "cell_type": "code",
   "execution_count": 3,
   "id": "simplified-emphasis",
   "metadata": {},
   "outputs": [],
   "source": [
    "#sort by user and date because we want to visualize in which order (date) the users (user_id) read the chapters\n",
    "df = df.sort_values(by=[\"user_id\", \"date_created\"])"
   ]
  },
  {
   "cell_type": "code",
   "execution_count": 4,
   "id": "coordinate-elephant",
   "metadata": {},
   "outputs": [],
   "source": [
    "# a chapter belongs to a specific book and chapter alone wouldn't be unique.\n",
    "# the network is build from nodes (source, target) so we have to combine chapter and book in a single column\n",
    "df[\"source\"] = df[\"chapter\"].str.strip() + \" \" + df[\"book\"].str.strip()"
   ]
  },
  {
   "cell_type": "code",
   "execution_count": 5,
   "id": "painful-climate",
   "metadata": {},
   "outputs": [],
   "source": [
    "#This is a very elegant way to do this. My first idea was about using a row based algorithm. So I learned a useful pattern\n",
    "df[\"target\"] = df[\"source\"].shift(-1)"
   ]
  },
  {
   "cell_type": "code",
   "execution_count": 6,
   "id": "pediatric-flashing",
   "metadata": {},
   "outputs": [],
   "source": [
    "# And again: creation of additional columns using shifting and filter afterwards is a usefull pattern to deal with hierarchical\n",
    "# structures in a flat table\n",
    "df[\"user_check\"] = df[\"user_id\"].shift(-1)"
   ]
  },
  {
   "cell_type": "code",
   "execution_count": 7,
   "id": "revised-gross",
   "metadata": {},
   "outputs": [],
   "source": [
    "# I am wondering whether pandas offers a similar way beside apply and a userdefined function to achieve this\n",
    "df[\"keep_drop\"] = np.where((df[\"user_check\"] == df[\"user_id\"]), df[\"user_id\"], np.nan)"
   ]
  },
  {
   "cell_type": "code",
   "execution_count": 8,
   "id": "regular-nicaragua",
   "metadata": {},
   "outputs": [],
   "source": [
    "df = df.dropna(subset=[\"keep_drop\", \"chapter\"])"
   ]
  },
  {
   "cell_type": "code",
   "execution_count": 9,
   "id": "meaningful-republican",
   "metadata": {},
   "outputs": [],
   "source": [
    "# create the networkx network\n",
    "G = nx.from_pandas_edgelist(df, \"source\", \"target\", create_using=nx.DiGraph)"
   ]
  },
  {
   "cell_type": "code",
   "execution_count": 10,
   "id": "promising-heather",
   "metadata": {},
   "outputs": [],
   "source": [
    "#calculate centrality measures and add them to the graph\n",
    "out = nx.out_degree_centrality(G)\n",
    "nx.set_node_attributes(G,out,\"out-degree\")\n",
    "\n",
    "bb = nx.betweenness_centrality(G)\n",
    "nx.set_node_attributes(G,bb,\"betweenness\")\n",
    "\n",
    "eigen = nx.eigenvector_centrality(G)\n",
    "nx.set_node_attributes(G,eigen,\"eigen\")\n"
   ]
  },
  {
   "cell_type": "code",
   "execution_count": 11,
   "id": "portuguese-spoke",
   "metadata": {},
   "outputs": [],
   "source": [
    "# create a list from the node data containing also the attributes\n",
    "data_list = list(G.nodes(data=True))"
   ]
  },
  {
   "cell_type": "code",
   "execution_count": 12,
   "id": "relative-reservation",
   "metadata": {},
   "outputs": [],
   "source": [
    "# create a dictionary from the list\n",
    "data = {}\n",
    "\n",
    "data[\"chapter\"] = [x[0] for x in data_list]\n",
    "\n",
    "data[\"out-degree\"] = [x[1][\"out-degree\"] for x in data_list]\n",
    "data[\"eigen\"] = [x[1][\"eigen\"] for x in data_list]\n",
    "data[\"betweenness\"] = [x[1][\"betweenness\"] for x in data_list]\n"
   ]
  },
  {
   "cell_type": "code",
   "execution_count": 13,
   "id": "indian-congress",
   "metadata": {},
   "outputs": [],
   "source": [
    "# create a dataframe from dictionary with columns/series chapter, out-degree, eigen, betweenness\n",
    "df2 = pd.DataFrame(data)"
   ]
  },
  {
   "cell_type": "code",
   "execution_count": 14,
   "id": "viral-purse",
   "metadata": {},
   "outputs": [],
   "source": [
    "chapter = sorted(df.source.unique().tolist())\n"
   ]
  },
  {
   "cell_type": "code",
   "execution_count": 39,
   "id": "attended-burke",
   "metadata": {},
   "outputs": [],
   "source": [
    "def view(chapter=\"\"):\n",
    "    row = [n for n in G[chapter]]\n",
    "    df3 = pd.DataFrame(row)\n",
    "    df3 = df3.set_index(0)\n",
    "    df4 = df3.join(df2.set_index(\"chapter\"))\n",
    "    df4 = df4.sort_values(by=[\"eigen\"], ascending=False)\n",
    "    df5 = df4.join(df.set_index(\"source\"))\n",
    "    df6 = df5[[\"chapter\", \"book\"]]\n",
    "    df6 = df6.dropna(subset=[\"book\",\"chapter\"])\n",
    "    df6 = df6.drop_duplicates()\n",
    "    df6 = df6.reset_index(drop=True)\n",
    "    query = (df6[\"chapter\"].str.strip() + \" \" + df6[\"book\"].str.strip()) != chapter\n",
    "    df6 = df6[query]\n",
    "    return df6"
   ]
  },
  {
   "cell_type": "markdown",
   "id": "victorian-revolution",
   "metadata": {},
   "source": [
    "## Chapter recommendation\n",
    "\n",
    "Please select a chapter. The table contains the recommendation which chapter from which book you should read next sorted by eigenvector centrality"
   ]
  },
  {
   "cell_type": "code",
   "execution_count": 40,
   "id": "maritime-spotlight",
   "metadata": {
    "scrolled": true
   },
   "outputs": [
    {
     "data": {
      "application/vnd.jupyter.widget-view+json": {
       "model_id": "2d16f162ff4f4cd893859e87e1cc5887",
       "version_major": 2,
       "version_minor": 0
      },
      "text/plain": [
       "interactive(children=(Select(description='chapter', options=(' madden', ' preukschat', ' serrano', '1-so-what-…"
      ]
     },
     "metadata": {},
     "output_type": "display_data"
    },
    {
     "data": {
      "text/plain": [
       "<function __main__.view(chapter='')>"
      ]
     },
     "metadata": {},
     "output_type": "display_data"
    }
   ],
   "source": [
    "w = Select(options=chapter)\n",
    "v = interact(view,chapter=w)\n",
    "display(v)\n"
   ]
  },
  {
   "cell_type": "code",
   "execution_count": null,
   "id": "adult-jefferson",
   "metadata": {},
   "outputs": [],
   "source": []
  }
 ],
 "metadata": {
  "kernelspec": {
   "display_name": "Python 3",
   "language": "python",
   "name": "python3"
  },
  "language_info": {
   "codemirror_mode": {
    "name": "ipython",
    "version": 3
   },
   "file_extension": ".py",
   "mimetype": "text/x-python",
   "name": "python",
   "nbconvert_exporter": "python",
   "pygments_lexer": "ipython3",
   "version": "3.7.10"
  }
 },
 "nbformat": 4,
 "nbformat_minor": 5
}
